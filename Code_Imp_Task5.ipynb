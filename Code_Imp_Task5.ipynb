{
 "cells": [
  {
   "cell_type": "code",
   "execution_count": 30,
   "metadata": {},
   "outputs": [],
   "source": [
    "import numpy as np\n",
    "import pandas as pd\n",
    "df = pd.read_csv(\"country_vaccination_stats (1).csv\")"
   ]
  },
  {
   "cell_type": "code",
   "execution_count": 31,
   "metadata": {},
   "outputs": [],
   "source": [
    "country_names = df.country.value_counts().index.to_numpy()\n",
    "for i in country_names:\n",
    "    minimum_vaccination = df.loc[df.country == i].daily_vaccinations.min()\n",
    "    # minimum vaccination number is determined for each country\n",
    "    if not minimum_vaccination>=0:\n",
    "        minimum_vaccination=0 #  If a country does not have any valid vaccination number yet, fill it with “0”\n",
    "    indexes = df.loc[df.country == i].index.to_numpy() # indexes of country\n",
    "    df.iloc[indexes]=df.iloc[indexes].fillna(value=minimum_vaccination) # task"
   ]
  },
  {
   "cell_type": "code",
   "execution_count": 32,
   "metadata": {},
   "outputs": [],
   "source": [
    "country_names = df.country.value_counts().index.to_numpy()\n",
    "for i in country_names:\n",
    "    minimum_vaccination = df.loc[df.country == i].daily_vaccinations.min()\n",
    "    # minimum vaccination number is determined for each country\n",
    "    if not minimum_vaccination>=0:\n",
    "        minimum_vaccination=0 #  If a country does not have any valid vaccination number yet, fill it with “0”\n",
    "    indexes = df.loc[df.country == i].index.to_numpy() # indexes of country\n",
    "    df.iloc[indexes]=df.iloc[indexes].fillna(value=minimum_vaccination) # task"
   ]
  },
  {
   "cell_type": "code",
   "execution_count": 33,
   "metadata": {},
   "outputs": [],
   "source": [
    "medians=[]\n",
    "for i in country_names:\n",
    "    medians.append(float(df.loc[df.country==i].median(axis=0)))"
   ]
  },
  {
   "cell_type": "code",
   "execution_count": 34,
   "metadata": {},
   "outputs": [
    {
     "data": {
      "text/plain": [
       "[(378253.0, 'United States'), (276786.0, 'China'), (173922.0, 'India')]"
      ]
     },
     "execution_count": 34,
     "metadata": {},
     "output_type": "execute_result"
    }
   ],
   "source": [
    "sorted(zip(medians, country_names), reverse=True)[:3]"
   ]
  },
  {
   "cell_type": "code",
   "execution_count": null,
   "metadata": {},
   "outputs": [],
   "source": []
  }
 ],
 "metadata": {
  "kernelspec": {
   "display_name": "Python 3",
   "language": "python",
   "name": "python3"
  },
  "language_info": {
   "codemirror_mode": {
    "name": "ipython",
    "version": 3
   },
   "file_extension": ".py",
   "mimetype": "text/x-python",
   "name": "python",
   "nbconvert_exporter": "python",
   "pygments_lexer": "ipython3",
   "version": "3.7.4"
  }
 },
 "nbformat": 4,
 "nbformat_minor": 2
}
